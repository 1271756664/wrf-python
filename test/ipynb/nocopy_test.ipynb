{
 "cells": [
  {
   "cell_type": "code",
   "execution_count": null,
   "metadata": {
    "collapsed": false
   },
   "outputs": [],
   "source": [
    "from wrf.extension import _slp"
   ]
  },
  {
   "cell_type": "code",
   "execution_count": null,
   "metadata": {
    "collapsed": false
   },
   "outputs": [],
   "source": [
    "from wrf import getvar\n",
    "from netCDF4 import Dataset as nc\n",
    "ncfile = nc(\"/Users/ladwig/Documents/wrf_files/wrf_vortex_multi/wrfout_d01_2005-08-28_00:00:00\")\n",
    "b = getvar([ncfile,ncfile,ncfile], \"slp\", timeidx=None)"
   ]
  },
  {
   "cell_type": "code",
   "execution_count": null,
   "metadata": {
    "collapsed": false
   },
   "outputs": [],
   "source": [
    "print(b)"
   ]
  },
  {
   "cell_type": "code",
   "execution_count": null,
   "metadata": {
    "collapsed": false
   },
   "outputs": [],
   "source": [
    "b = getvar([ncfile,ncfile,ncfile], \"td\", None)"
   ]
  },
  {
   "cell_type": "code",
   "execution_count": null,
   "metadata": {
    "collapsed": false
   },
   "outputs": [],
   "source": [
    "print(b)\n"
   ]
  },
  {
   "cell_type": "code",
   "execution_count": null,
   "metadata": {
    "collapsed": true
   },
   "outputs": [],
   "source": [
    "b = getvar([ncfile,ncfile,ncfile], \"tk\", None)"
   ]
  },
  {
   "cell_type": "code",
   "execution_count": null,
   "metadata": {
    "collapsed": false
   },
   "outputs": [],
   "source": [
    "print(b)"
   ]
  },
  {
   "cell_type": "code",
   "execution_count": null,
   "metadata": {
    "collapsed": true
   },
   "outputs": [],
   "source": [
    "b = getvar([ncfile,ncfile,ncfile], \"rh\", None)"
   ]
  },
  {
   "cell_type": "code",
   "execution_count": null,
   "metadata": {
    "collapsed": false
   },
   "outputs": [],
   "source": [
    "print (b)"
   ]
  },
  {
   "cell_type": "code",
   "execution_count": null,
   "metadata": {
    "collapsed": false
   },
   "outputs": [],
   "source": [
    "# 500 MB Heights\n",
    "from wrf import getvar, interplevel\n",
    "\n",
    "z = getvar([ncfile,ncfile,ncfile], \"z\", timeidx=None)\n",
    "p = getvar([ncfile,ncfile,ncfile], \"pressure\", timeidx=None)\n",
    "ht_500mb = interplevel(z, p, 500)\n",
    "\n",
    "print(ht_500mb)\n",
    "del ht_500mb, z, p"
   ]
  },
  {
   "cell_type": "code",
   "execution_count": null,
   "metadata": {
    "collapsed": false
   },
   "outputs": [],
   "source": [
    "# Pressure using pivot and angle\n",
    "from wrf import getvar, vertcross\n",
    "\n",
    "z = getvar(ncfile, \"z\", timeidx=None)\n",
    "p = getvar(ncfile, \"pressure\", timeidx=None)\n",
    "pivot_point = (z.shape[-2] / 2, z.shape[-1] / 2) \n",
    "angle = 90.0\n",
    "\n",
    "p_vert = vertcross(p, z, pivot_point=pivot_point, angle=angle)\n",
    "print(p_vert)\n",
    "del p_vert\n",
    "\n",
    "# Pressure using start_point and end_point\n",
    "start_point = (z.shape[-2]/2, 0)\n",
    "end_point = (z.shape[-2]/2, -1)\n",
    "\n",
    "p_vert = vertcross(p, z, start_point=start_point, end_point=end_point)\n",
    "print(p_vert)\n",
    "del p_vert, p, z\n"
   ]
  },
  {
   "cell_type": "raw",
   "metadata": {},
   "source": []
  },
  {
   "cell_type": "code",
   "execution_count": null,
   "metadata": {
    "collapsed": false
   },
   "outputs": [],
   "source": [
    "# T2 using pivot and angle\n",
    "from wrf import interpline, getvar\n",
    "\n",
    "t2 = getvar([ncfile,ncfile,ncfile], \"T2\", timeidx=None)\n",
    "pivot_point = (t2.shape[-2] / 2, t2.shape[-1] / 2) \n",
    "angle = 90.0\n",
    "\n",
    "t2_line = interpline(t2, pivot_point=pivot_point, angle=angle)\n",
    "print(t2_line)\n",
    "\n",
    "del t2_line\n",
    "\n",
    "# T2 using start_point and end_point\n",
    "start_point = (t2.shape[-2]/2, 0)\n",
    "end_point = (t2.shape[-2]/2, -1)\n",
    "\n",
    "t2_line = interpline(t2, start_point=start_point, end_point=end_point)\n",
    "print(t2_line)\n",
    "\n",
    "del t2_line, t2"
   ]
  },
  {
   "cell_type": "code",
   "execution_count": null,
   "metadata": {
    "collapsed": false
   },
   "outputs": [],
   "source": [
    "from wrf import getvar\n",
    "from netCDF4 import Dataset as nc\n",
    "lambertnc = nc(\"/Users/ladwig/Documents/wrf_files/wrfout_d01_2010-06-13_21:00:00\")\n",
    "uvmet = getvar([lambertnc,lambertnc], \"uvmet\", timeidx=None)\n",
    "print (uvmet)"
   ]
  },
  {
   "cell_type": "code",
   "execution_count": null,
   "metadata": {
    "collapsed": true
   },
   "outputs": [],
   "source": []
  }
 ],
 "metadata": {
  "kernelspec": {
   "display_name": "Python 2",
   "language": "python",
   "name": "python2"
  },
  "language_info": {
   "codemirror_mode": {
    "name": "ipython",
    "version": 2
   },
   "file_extension": ".py",
   "mimetype": "text/x-python",
   "name": "python",
   "nbconvert_exporter": "python",
   "pygments_lexer": "ipython2",
   "version": "2.7.11"
  }
 },
 "nbformat": 4,
 "nbformat_minor": 0
}
